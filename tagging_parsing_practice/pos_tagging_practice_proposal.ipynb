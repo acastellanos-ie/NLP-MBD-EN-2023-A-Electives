{
  "nbformat": 4,
  "nbformat_minor": 0,
  "metadata": {
    "kernelspec": {
      "display_name": "Python 3",
      "language": "python",
      "name": "python3"
    },
    "language_info": {
      "codemirror_mode": {
        "name": "ipython",
        "version": 3
      },
      "file_extension": ".py",
      "mimetype": "text/x-python",
      "name": "python",
      "nbconvert_exporter": "python",
      "pygments_lexer": "ipython3",
      "version": "3.8.5"
    },
    "colab": {
      "name": "pos_tagging_practice_proposal.ipynb",
      "provenance": [],
      "include_colab_link": true
    }
  },
  "cells": [
    {
      "cell_type": "markdown",
      "metadata": {
        "id": "view-in-github",
        "colab_type": "text"
      },
      "source": [
        "<a href=\"https://colab.research.google.com/github/acastellanos-ie/NLP-MBD-EN2021S-Electives/blob/main/tagging_parsing_practice/pos_tagging_practice_proposal.ipynb\" target=\"_parent\"><img src=\"https://colab.research.google.com/assets/colab-badge.svg\" alt=\"Open In Colab\"/></a>"
      ]
    },
    {
      "cell_type": "markdown",
      "metadata": {
        "id": "coUhsrt20sOI"
      },
      "source": [
        "# Google Colab Configuration\n",
        "\n",
        "**Execute this steps to configure the Google Colab environment in order to execute this notebook. It is not required if you are executing it locally and you have properly configured your local environment according to what explained in the Github Repository.**\n",
        "\n",
        "The first step is to clone the repository to have access to all the data and files."
      ]
    },
    {
      "cell_type": "code",
      "metadata": {
        "id": "19ecQfLVZGvm"
      },
      "source": [
        "repository_name = \"NLP-MBD-EN2021S-Electives\"\n",
        "repository_url = 'https://github.com/acastellanos-ie/' + repository_name"
      ],
      "execution_count": null,
      "outputs": []
    },
    {
      "cell_type": "code",
      "metadata": {
        "id": "DMgL9W4-0wXE",
        "colab": {
          "base_uri": "https://localhost:8080/"
        },
        "outputId": "2e689fcd-5fa4-414c-d86a-579196444691"
      },
      "source": [
        "! git clone $repository_url"
      ],
      "execution_count": null,
      "outputs": [
        {
          "output_type": "stream",
          "name": "stdout",
          "text": [
            "Cloning into 'NLP-SAMBD-EN-2021'...\n",
            "remote: Enumerating objects: 57, done.\u001b[K\n",
            "remote: Counting objects: 100% (57/57), done.\u001b[K\n",
            "remote: Compressing objects: 100% (39/39), done.\u001b[K\n",
            "remote: Total 57 (delta 19), reused 48 (delta 15), pack-reused 0\u001b[K\n",
            "Unpacking objects: 100% (57/57), done.\n"
          ]
        }
      ]
    },
    {
      "cell_type": "markdown",
      "metadata": {
        "id": "5gAhosq70ypp"
      },
      "source": [
        "Install the requirements (be aware that it could take a while)"
      ]
    },
    {
      "cell_type": "code",
      "metadata": {
        "id": "Dy8O4JuL00hJ",
        "colab": {
          "base_uri": "https://localhost:8080/"
        },
        "outputId": "3087760d-e7bc-40ce-8609-2161442ea904"
      },
      "source": [
        "! pip install -Uqqr $repository_name/requirements.txt"
      ],
      "execution_count": null,
      "outputs": [
        {
          "output_type": "stream",
          "name": "stdout",
          "text": [
            "\u001b[K     |████████████████████████████████| 12.0 MB 1.3 MB/s \n",
            "\u001b[K     |████████████████████████████████| 3.4 MB 6.2 MB/s \n",
            "\u001b[K     |████████████████████████████████| 1.5 MB 43.8 MB/s \n",
            "\u001b[K     |████████████████████████████████| 58 kB 5.0 MB/s \n",
            "\u001b[K     |████████████████████████████████| 432 kB 54.3 MB/s \n",
            "\u001b[K     |████████████████████████████████| 126 kB 65.1 MB/s \n",
            "\u001b[K     |████████████████████████████████| 10.4 MB 64.4 MB/s \n",
            "\u001b[K     |████████████████████████████████| 10.5 MB 44.1 MB/s \n",
            "\u001b[K     |████████████████████████████████| 24.8 MB 1.3 MB/s \n",
            "\u001b[K     |████████████████████████████████| 631 kB 50.5 MB/s \n",
            "\u001b[K     |████████████████████████████████| 385 kB 48.1 MB/s \n",
            "\u001b[K     |██████████████████████████████▎ | 834.1 MB 1.2 MB/s eta 0:00:42tcmalloc: large alloc 1147494400 bytes == 0x563e381bc000 @  0x7f8f2f45e615 0x563dfe05b4cc 0x563dfe13b47a 0x563dfe05e2ed 0x563dfe14fe1d 0x563dfe0d1e99 0x563dfe0cc9ee 0x563dfe05fbda 0x563dfe0d1d00 0x563dfe0cc9ee 0x563dfe05fbda 0x563dfe0ce737 0x563dfe150c66 0x563dfe0cddaf 0x563dfe150c66 0x563dfe0cddaf 0x563dfe150c66 0x563dfe0cddaf 0x563dfe060039 0x563dfe0a3409 0x563dfe05ec52 0x563dfe0d1c25 0x563dfe0cc9ee 0x563dfe05fbda 0x563dfe0ce737 0x563dfe0cc9ee 0x563dfe05fbda 0x563dfe0cd915 0x563dfe05fafa 0x563dfe0cdc0d 0x563dfe0cc9ee\n",
            "\u001b[K     |████████████████████████████████| 881.9 MB 15 kB/s \n",
            "\u001b[K     |████████████████████████████████| 189 kB 54.9 MB/s \n",
            "\u001b[K     |████████████████████████████████| 720 kB 57.8 MB/s \n",
            "\u001b[K     |████████████████████████████████| 489.6 MB 24 kB/s \n",
            "\u001b[K     |████████████████████████████████| 25.3 MB 1.7 MB/s \n",
            "\u001b[K     |████████████████████████████████| 1.7 MB 48.2 MB/s \n",
            "\u001b[K     |████████████████████████████████| 1.0 MB 55.0 MB/s \n",
            "\u001b[K     |████████████████████████████████| 3.3 MB 43.1 MB/s \n",
            "\u001b[K     |████████████████████████████████| 895 kB 70.1 MB/s \n",
            "\u001b[K     |████████████████████████████████| 596 kB 68.4 MB/s \n",
            "\u001b[K     |████████████████████████████████| 61 kB 490 kB/s \n",
            "\u001b[K     |████████████████████████████████| 749 kB 61.5 MB/s \n",
            "\u001b[K     |████████████████████████████████| 250 kB 59.0 MB/s \n",
            "\u001b[K     |████████████████████████████████| 170 kB 22.5 MB/s \n",
            "\u001b[K     |████████████████████████████████| 56 kB 4.4 MB/s \n",
            "\u001b[K     |████████████████████████████████| 46 kB 4.1 MB/s \n",
            "\u001b[K     |████████████████████████████████| 1.2 MB 51.8 MB/s \n",
            "\u001b[K     |████████████████████████████████| 51 kB 284 kB/s \n",
            "\u001b[K     |████████████████████████████████| 25.3 MB 1.6 MB/s \n",
            "\u001b[K     |████████████████████████████████| 25.3 MB 71.0 MB/s \n",
            "\u001b[K     |████████████████████████████████| 25.3 MB 22 kB/s \n",
            "\u001b[K     |████████████████████████████████| 25.3 MB 1.9 MB/s \n",
            "\u001b[K     |████████████████████████████████| 25.3 MB 1.3 MB/s \n",
            "\u001b[K     |████████████████████████████████| 25.3 MB 76.2 MB/s \n",
            "\u001b[K     |████████████████████████████████| 25.3 MB 1.4 MB/s \n",
            "\u001b[K     |████████████████████████████████| 25.3 MB 81.5 MB/s \n",
            "\u001b[K     |████████████████████████████████| 25.3 MB 60.8 MB/s \n",
            "\u001b[K     |████████████████████████████████| 25.3 MB 2.2 MB/s \n",
            "\u001b[K     |████████████████████████████████| 25.3 MB 2.1 MB/s \n",
            "\u001b[K     |████████████████████████████████| 25.3 MB 79.6 MB/s \n",
            "\u001b[K     |████████████████████████████████| 25.3 MB 1.3 MB/s \n",
            "\u001b[K     |████████████████████████████████| 25.3 MB 1.3 MB/s \n",
            "\u001b[K     |████████████████████████████████| 25.3 MB 84.0 MB/s \n",
            "\u001b[K     |████████████████████████████████| 25.3 MB 2.1 MB/s \n",
            "\u001b[K     |████████████████████████████████| 981 kB 20.2 MB/s \n",
            "\u001b[K     |████████████████████████████████| 263 kB 52.6 MB/s \n",
            "\u001b[K     |████████████████████████████████| 1.3 MB 50.4 MB/s \n",
            "\u001b[K     |████████████████████████████████| 468 kB 44.6 MB/s \n",
            "\u001b[K     |████████████████████████████████| 1.3 MB 57.3 MB/s \n",
            "\u001b[K     |████████████████████████████████| 1.3 MB 70.8 MB/s \n",
            "\u001b[K     |████████████████████████████████| 1.1 MB 61.8 MB/s \n",
            "\u001b[K     |████████████████████████████████| 1.1 MB 42.2 MB/s \n",
            "\u001b[K     |████████████████████████████████| 1.0 MB 52.6 MB/s \n",
            "\u001b[K     |████████████████████████████████| 884 kB 54.5 MB/s \n",
            "\u001b[K     |████████████████████████████████| 25.3 MB 1.6 MB/s \n",
            "\u001b[K     |████████████████████████████████| 25.3 MB 79.1 MB/s \n",
            "\u001b[?25h  Building wheel for en-core-web-sm (setup.py) ... \u001b[?25l\u001b[?25hdone\n",
            "  Building wheel for eli5 (setup.py) ... \u001b[?25l\u001b[?25hdone\n",
            "  Building wheel for stellargraph (setup.py) ... \u001b[?25l\u001b[?25hdone\n",
            "  Building wheel for imgaug (setup.py) ... \u001b[?25l\u001b[?25hdone\n",
            "  Building wheel for networkx (setup.py) ... \u001b[?25l\u001b[?25hdone\n",
            "  Building wheel for camel-tools (setup.py) ... \u001b[?25l\u001b[?25hdone\n",
            "  Building wheel for ktrain (setup.py) ... \u001b[?25l\u001b[?25hdone\n",
            "  Building wheel for seqeval (setup.py) ... \u001b[?25l\u001b[?25hdone\n",
            "  Building wheel for keras-bert (setup.py) ... \u001b[?25l\u001b[?25hdone\n",
            "  Building wheel for keras-transformer (setup.py) ... \u001b[?25l\u001b[?25hdone\n",
            "  Building wheel for keras-embed-sim (setup.py) ... \u001b[?25l\u001b[?25hdone\n",
            "  Building wheel for keras-layer-normalization (setup.py) ... \u001b[?25l\u001b[?25hdone\n",
            "  Building wheel for keras-multi-head (setup.py) ... \u001b[?25l\u001b[?25hdone\n",
            "  Building wheel for keras-pos-embd (setup.py) ... \u001b[?25l\u001b[?25hdone\n",
            "  Building wheel for keras-position-wise-feed-forward (setup.py) ... \u001b[?25l\u001b[?25hdone\n",
            "  Building wheel for keras-self-attention (setup.py) ... \u001b[?25l\u001b[?25hdone\n",
            "  Building wheel for camel-kenlm (setup.py) ... \u001b[?25l\u001b[?25hdone\n",
            "  Building wheel for emoji (setup.py) ... \u001b[?25l\u001b[?25hdone\n",
            "  Building wheel for langdetect (setup.py) ... \u001b[?25l\u001b[?25hdone\n"
          ]
        }
      ]
    },
    {
      "cell_type": "markdown",
      "source": [
        "Everything is set up properly! You can now move on to the practice code.\n",
        "\n",
        "I do recommend you to restart the environment at this point to ensure that Google Colab is aware of the installed packages and their configuration (see image below).\n",
        "\n",
        "![image.png](data:image/png;base64,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)"
      ],
      "metadata": {
        "id": "-49AD1qpk7jH"
      }
    },
    {
      "cell_type": "markdown",
      "metadata": {
        "id": "YA0plNqis_pt"
      },
      "source": [
        "# Parts of Speech Tagging Practice\n",
        "\n",
        "The purpose of this practical session is to experiment with Part-of-Speech tagging, using the tools provided by NLTK. \n",
        "\n",
        "We will make use of the contents of the [Chapter 5](http://www.nltk.org/book/ch05.html) of the \n",
        "[Natural Language Processing with Python --- Analyzing Text with the Natural Language Toolkit](http://www.nltk.org/book). As experimental dataset, we will use the [Brown Corpus](http://en.wikipedia.org/wiki/Brown_Corpus). The Brown Corpus defines a tagset (specific collection of part-of-speech labels) that has been reused in many other annotated resources in English. The [universal tagset](http://universaldependencies.org/u/pos/) includes 17 tags:\n",
        "\n",
        "Tag\t| Meaning\t | Examples\n",
        "----|------------|----------\n",
        "ADJ\t| adjective\t | new, good, high, special, big, local\n",
        "ADV\t| adverb\t | really, already, still, early, now\n",
        "CONJ| conjunction| and, or, but, if, while, although\n",
        "DET\t| determiner | the, a, some, most, every, no\n",
        "X\t| other, foreign words | dolce, ersatz, esprit, quo, maitre\n",
        "NOUN | noun\t     | year, home, costs, time, education\n",
        "PROPN| proper noun | Alison, Africa, April, Washington\n",
        "NUM\t | numeral\t| twenty-four, fourth, 1991, 14:24\n",
        "PRON | pronoun\t| he, their, her, its, my, I, us\n",
        "ADP  | adposition, preposition | on, of, at, with, by, into, under\n",
        "AUX\t | auxiliary verb | has (done), is (doing), will (do), should (do), must (do), can (do)\n",
        "INTJ | interjection | ah, bang, ha, whee, hmpf, oops\n",
        "VERB | verb | is, has, get, do, make, see, run\n",
        "PART | particle | possessive marker 's, negation 'not'\n",
        "SCONJ | subordinating conjunction: complementizer, adverbial clause introducer | I believe 'that' he will come, if, while\n",
        "SYM\t| symbol | $, (C), +, *, /, =, :), john.doe@example.com\n",
        "\n",
        "\n",
        "\n",
        "Note that the decision on how to tag a word, without more information is ambiguous for multiple reasons:\n",
        "\n",
        "- The same string can be understood as a `noun` or a `verb` (e.g, **book**).\n",
        "- Some POS tags have a systematically ambiguous definition: a present participle can be used in progressive verb usages (I am going:VERB), but it can also be used in an adjectival position modifying a noun: (A striking:ADJ comparison). In other words, it is unclear in the definition itself of the tag whether the tag refers to a syntactic function or to a morphological property of the word.\n"
      ]
    },
    {
      "cell_type": "markdown",
      "metadata": {
        "id": "SAtVKLsxs_p4"
      },
      "source": [
        "## 0. Working on the Brown Corpus with NLTK\n",
        "\n",
        "NLTK contains a collection of tagged corpora, arranged as convenient Python objects. We will use the `Brown corpus` in this experiment.  The `tagged_sents` version of the corpus is a list of sentences. Each sentence is a list of pairs (`tuples`) `(word, tag)`. Similarly, one can access the corpus as a flat list of tagged words."
      ]
    },
    {
      "cell_type": "code",
      "metadata": {
        "id": "tSoqw4_7s_p6",
        "colab": {
          "base_uri": "https://localhost:8080/"
        },
        "outputId": "d42bb0d9-3106-452f-9b1f-2899f0f88baa"
      },
      "source": [
        "import nltk\n",
        "\n",
        "# Download and import the Brown Corpus\n",
        "nltk.download('brown')\n",
        "from nltk.corpus import brown\n",
        "\n",
        "brown_news_tagged = brown.tagged_sents(categories='news', tagset='universal')\n",
        "brown_news_words = brown.tagged_words(categories='news',  tagset='universal')"
      ],
      "execution_count": null,
      "outputs": [
        {
          "output_type": "stream",
          "text": [
            "[nltk_data] Downloading package brown to /root/nltk_data...\n",
            "[nltk_data]   Unzipping corpora/brown.zip.\n"
          ],
          "name": "stderr"
        }
      ]
    },
    {
      "cell_type": "markdown",
      "metadata": {
        "id": "OwbsY0AKs_p8"
      },
      "source": [
        "In addition to the `Brown Corpus` we also need to also load the `universal_tagset`, an interface for converting POS tags from various formats to the universal tagset format."
      ]
    },
    {
      "cell_type": "code",
      "metadata": {
        "id": "jYvHFvxss_p-",
        "colab": {
          "base_uri": "https://localhost:8080/"
        },
        "outputId": "8de8bb39-7e33-40fd-f3d0-7c657b00bb0f"
      },
      "source": [
        "nltk.download('universal_tagset')"
      ],
      "execution_count": null,
      "outputs": [
        {
          "output_type": "stream",
          "text": [
            "[nltk_data] Downloading package universal_tagset to /root/nltk_data...\n",
            "[nltk_data]   Unzipping taggers/universal_tagset.zip.\n"
          ],
          "name": "stderr"
        },
        {
          "output_type": "execute_result",
          "data": {
            "text/plain": [
              "True"
            ]
          },
          "metadata": {
            "tags": []
          },
          "execution_count": 4
        }
      ]
    },
    {
      "cell_type": "markdown",
      "metadata": {
        "id": "-94FTeFCs_p_"
      },
      "source": [
        "### Measuring success: Accuracy, Training Dataset, Test Dataset\n",
        "\n",
        "Assume we develop a tagger. How do we know how successful it is? Can we trust the decisions the tagger makes? In order to evaluate the tagger, we are going to split the dataset into training and testing:"
      ]
    },
    {
      "cell_type": "code",
      "metadata": {
        "id": "KpEvyg_ts_qA",
        "colab": {
          "base_uri": "https://localhost:8080/"
        },
        "outputId": "0417a909-d0a4-4fe2-e340-d78b66ce3274"
      },
      "source": [
        "brown_train = brown_news_tagged[100:]\n",
        "brown_test = brown_news_tagged[:100]\n",
        "\n",
        "from nltk.tag import untag\n",
        "test_sent = untag(brown_test[0])\n",
        "print(\"Tagged: \", brown_test[0])\n",
        "print()\n",
        "print(\"Untagged: \", test_sent)"
      ],
      "execution_count": null,
      "outputs": [
        {
          "output_type": "stream",
          "text": [
            "Tagged:  [('The', 'DET'), ('Fulton', 'NOUN'), ('County', 'NOUN'), ('Grand', 'ADJ'), ('Jury', 'NOUN'), ('said', 'VERB'), ('Friday', 'NOUN'), ('an', 'DET'), ('investigation', 'NOUN'), ('of', 'ADP'), (\"Atlanta's\", 'NOUN'), ('recent', 'ADJ'), ('primary', 'NOUN'), ('election', 'NOUN'), ('produced', 'VERB'), ('``', '.'), ('no', 'DET'), ('evidence', 'NOUN'), (\"''\", '.'), ('that', 'ADP'), ('any', 'DET'), ('irregularities', 'NOUN'), ('took', 'VERB'), ('place', 'NOUN'), ('.', '.')]\n",
            "\n",
            "Untagged:  ['The', 'Fulton', 'County', 'Grand', 'Jury', 'said', 'Friday', 'an', 'investigation', 'of', \"Atlanta's\", 'recent', 'primary', 'election', 'produced', '``', 'no', 'evidence', \"''\", 'that', 'any', 'irregularities', 'took', 'place', '.']\n"
          ],
          "name": "stdout"
        }
      ]
    },
    {
      "cell_type": "markdown",
      "metadata": {
        "id": "Qyp_HtO7s_qB"
      },
      "source": [
        "## 1. Baseline Tagger: Default Tag"
      ]
    },
    {
      "cell_type": "markdown",
      "metadata": {
        "id": "1sVXBsM5s_qB"
      },
      "source": [
        "In the absence of any knowledge, the most basic tagging approach is to assign the same tag to all the words.\n",
        "It can be done with the `DefaultTagger` class, which takes a tag and assign it to all the words."
      ]
    },
    {
      "cell_type": "code",
      "metadata": {
        "id": "DfyMz9XUs_qC",
        "colab": {
          "base_uri": "https://localhost:8080/"
        },
        "outputId": "0493ec50-25a5-4ed7-8d7a-0e0490b9a5d5"
      },
      "source": [
        "# A default tagger assigns the same tag to all words\n",
        "from nltk import DefaultTagger\n",
        "default_tagger = DefaultTagger('default_tag')\n",
        "default_tagger.tag('This is a test'.split())"
      ],
      "execution_count": null,
      "outputs": [
        {
          "output_type": "execute_result",
          "data": {
            "text/plain": [
              "[('This', 'default_tag'),\n",
              " ('is', 'default_tag'),\n",
              " ('a', 'default_tag'),\n",
              " ('test', 'default_tag')]"
            ]
          },
          "metadata": {
            "tags": []
          },
          "execution_count": 6
        }
      ]
    },
    {
      "cell_type": "markdown",
      "metadata": {
        "id": "Ds7MfRZas_qD"
      },
      "source": [
        "### Exercise 1.1"
      ]
    },
    {
      "cell_type": "markdown",
      "metadata": {
        "id": "kVWnokmfs_qE"
      },
      "source": [
        "Using the `DefaultTagger`, try different tags (see the available options in the table at the beginning of the notebook).\n",
        "\n",
        "**Which one is offering the best performance? Why?**\n",
        "\n",
        "To measure success, in this task, we will measure accuracy. The tagger object in NLTK includes a method called `evaluate` to measure the accuracy of a tagger on a given test set (our `brown_test` object).\n"
      ]
    },
    {
      "cell_type": "markdown",
      "metadata": {
        "id": "93dUN9vps_qE"
      },
      "source": [
        "Let's try different tags:"
      ]
    },
    {
      "cell_type": "code",
      "metadata": {
        "id": "yWDJk3S9s_qF"
      },
      "source": [
        "# Your code here"
      ],
      "execution_count": null,
      "outputs": []
    },
    {
      "cell_type": "markdown",
      "metadata": {
        "id": "3uKi5sdds_qG"
      },
      "source": [
        "## 2. Sources of Knowledge to Improve Tagging Accuracy\n",
        "\n",
        "Intuitively, the sources of knowledge that can help us decide what is the tag of a word include:\n",
        "- A dictionary that lists the possible parts of speech for each word\n",
        "- The context of the word in a sentence (neighboring words)\n",
        "- The morphological form of the word (suffixes, prefixes)\n"
      ]
    },
    {
      "cell_type": "markdown",
      "metadata": {
        "id": "HfbHkJhOs_qG"
      },
      "source": [
        "### 2.1 Lookup Tagger: Using Dictionary Knowledge\n",
        "\n",
        "Assume we have a dictionary that lists the possible tags for each word in English. Could we use this information to perform better tagging?\n",
        "\n",
        "The intuition is that we would only assign to a word a tag that it can have in the dictionary. For example, if `box` can only be a `Verb` or a `Noun`, when we have to tag an instance of the word `box`, we only choose between 2 options - and not between 17 options.\n",
        "\n",
        "There are 3 issues we must address to turn this into working code:\n",
        "\n",
        "- Where do we get the dictionary?\n",
        "- How do we choose between the various tags associated to a word in the dictionary? (For example, how do we choose between `VERB` and `NOUN` for `box`).\n",
        "- What do we do for words that do not appear in the dictionary?\n",
        "\n",
        "The simple solutions we will test are the following - note that for each question, there exist other strategies that we will investigate later:\n",
        "\n",
        "- Where do we get the dictionary?: we will learn it from a sample dataset.\n",
        "- How do we choose between the various tags associated to a word in the dictionary?: we will choose the most likely tag as observed in the sample dataset.\n",
        "- What do we do for words that do not appear in the dictionary?: we will pass unknown words to a backoff tagger (tag all unknown words as `NOUN`).\n",
        "\n",
        "The `nltk.UnigramTagger` implements this overall strategy. It must be trained on a dataset, from which it builds a model of \"unigrams\". The following code shows how it is used:"
      ]
    },
    {
      "cell_type": "markdown",
      "metadata": {
        "id": "b15ITySDs_qH"
      },
      "source": [
        "### Exercise 2.1.1\n",
        "\n",
        "Use the `UnigramTagger` class and the `brown_train` object to create a unigram tagger.\n",
        "\n",
        "**Which tag is selecting to annotate each word?**\n",
        "\n",
        "**What's happening with unknown words?**"
      ]
    },
    {
      "cell_type": "code",
      "metadata": {
        "id": "3RpnNigKs_qI"
      },
      "source": [
        "# Prepare training and test datasets\n",
        "from nltk import UnigramTagger\n",
        "\n",
        "# Train the unigram model\n",
        "\n",
        "# Your code here\n"
      ],
      "execution_count": null,
      "outputs": []
    },
    {
      "cell_type": "markdown",
      "metadata": {
        "id": "x0PfCnjKs_qI"
      },
      "source": [
        "### Exercise 2.1.2\n",
        "\n",
        "Making use of the `evaluate` method measure how successful is this tagger.\n",
        "\n",
        "**Are we improving the performance of the tagger?**\n",
        "**Do your find the new performance sufficient enough for a NLP system?**"
      ]
    },
    {
      "cell_type": "code",
      "metadata": {
        "id": "gGypte1Ws_qI"
      },
      "source": [
        "# Your code here"
      ],
      "execution_count": null,
      "outputs": []
    },
    {
      "cell_type": "markdown",
      "metadata": {
        "id": "IdHFCS5xs_qJ"
      },
      "source": [
        "### Exercise 2.1.3\n",
        "\n",
        "If we analyze the tagger annotation, we will see that it assigns `None` to unknown words. As explained in class, a good way to improve this is to tag unknowns words as `NOUN` (the most common tag). This is known as a backoff tagger (i.e., a second tagger that applies where the original one cannot identify the tag for a word)\n",
        "\n",
        "NLTK provides a simple way to implement this backoff tagging. All the constructors for the Tagger classes (e.g., `UnigramTagger`) have a parameter `backoff` where you can set the backoff tagger that will apply. In this case, our backoff tagger will be the `DefaultTagger` that annotates `NOUN`, which we developed in the exercise below .\n",
        "\n",
        "**Using the `DefaultTagger` and `UnigramTagger` classes, create a tagger that assigns the most common tag to each word and, for unknown words, assigns a backoff tag of `NOUN`.**\n",
        "\n",
        "**What's the accuracy of this tagger? Do we improved our performance?**"
      ]
    },
    {
      "cell_type": "code",
      "metadata": {
        "id": "GTyPQMqJs_qJ"
      },
      "source": [
        "# Your code here"
      ],
      "execution_count": null,
      "outputs": []
    },
    {
      "cell_type": "markdown",
      "metadata": {
        "id": "QZxKVenes_qK"
      },
      "source": [
        "### 2.2 Using Morphological Clues\n",
        "\n",
        "As mentioned above, another knowledge source to perform tagging is to look at the letter structure of the words. \n",
        "We will look at 2 different methods to use this knowledge. \n",
        "First, we will use nltk.RegexpTagger to recognize specific regular expressions in words."
      ]
    },
    {
      "cell_type": "code",
      "metadata": {
        "id": "o9etNo2ss_qK",
        "colab": {
          "base_uri": "https://localhost:8080/"
        },
        "outputId": "90ddfc72-4c59-4e57-9140-0e48fdeff1a5"
      },
      "source": [
        "from nltk import RegexpTagger\n",
        "\n",
        "regexp_tagger = RegexpTagger(\n",
        "     [(r'^-?[0-9]+(.[0-9]+)?$', 'NUM'),   # cardinal numbers\n",
        "      (r'(The|the|A|a|An|an)$', 'DET'),   # articles\n",
        "      (r'.*able$', 'ADJ'),                # adjectives\n",
        "      (r'.*ness$', 'NOUN'),               # nouns formed from adjectives\n",
        "      (r'.*ly$', 'ADV'),                  # adverbs\n",
        "      (r'.*s$', 'NOUN'),                  # plural nouns\n",
        "      (r'.*ing$', 'VERB'),                # gerunds\n",
        "      (r'.*ed$', 'VERB'),                 # past tense verbs\n",
        "      (r'.*', 'NOUN')                     # nouns (default)\n",
        "])\n",
        "\n",
        "print('Regexp accuracy %4.1f%%' % (100.0 * regexp_tagger.evaluate(brown_test)))"
      ],
      "execution_count": null,
      "outputs": [
        {
          "output_type": "stream",
          "text": [
            "Regexp accuracy 48.2%\n"
          ],
          "name": "stdout"
        }
      ]
    },
    {
      "cell_type": "markdown",
      "metadata": {
        "id": "9LTVVlp5s_qL"
      },
      "source": [
        "The regular expressions are tested in order. If one matches, it decides the tag. Else it tries the next tag. \n"
      ]
    },
    {
      "cell_type": "markdown",
      "metadata": {
        "id": "jrgF_-kes_qL"
      },
      "source": [
        "The question we face when we see such a \"rule-based\" tagger are:\n",
        "\n",
        "- How do we find the most successful regular expressions?\n",
        "- In which order should we try the regular expressions?\n",
        "\n",
        "A typical answer to such questions is: \n",
        "\n",
        "- let's learn these parameters from a training corpus. \n",
        "\n",
        "The `nltk.AffixTagger` is a trainable tagger that attempts to learn word patterns. \n",
        "It only looks at the last letters in the words in the training corpus, and counts how often a word suffix \n",
        "can predict the word tag. \n",
        "In other words, we only learn rules of the form ('.*xyz' , POS). \n",
        "This is how the affix tagger is used:"
      ]
    },
    {
      "cell_type": "code",
      "metadata": {
        "id": "YVQ84Fb3s_qM",
        "colab": {
          "base_uri": "https://localhost:8080/"
        },
        "outputId": "ac746a68-2cb9-412e-e54f-6c792e25bd24"
      },
      "source": [
        "from nltk import AffixTagger\n",
        "\n",
        "affix_tagger = AffixTagger(brown_train, backoff=DefaultTagger('NOUN'))\n",
        "print('Affix tagger accuracy: %4.1f%%' % (100.0 * affix_tagger.evaluate(brown_test)))"
      ],
      "execution_count": null,
      "outputs": [
        {
          "output_type": "stream",
          "text": [
            "Affix tagger accuracy: 42.3%\n"
          ],
          "name": "stdout"
        }
      ]
    },
    {
      "cell_type": "markdown",
      "metadata": {
        "id": "xB5VnxOhs_qN"
      },
      "source": [
        "Should we be disappointed that the \"data-based approach\" performs worse than the hand-written rules (42% vs. 48%)? \n",
        "\n",
        "Not necessarily: note that our hand-written rules include cases that the AffixTagger cannot learn - we match cardinal numbers and suffixes with more than 3 letters. \n",
        "\n",
        "Let us see whether the combination of the 2 taggers helps:\n"
      ]
    },
    {
      "cell_type": "markdown",
      "metadata": {
        "id": "0S0POxDrs_qN"
      },
      "source": [
        "### Exercise 2.2.1\n",
        "\n",
        "**Using the `AffixTagger` class, creates a tagger that learns from word patterns and that uses the previous `RegexpTagger` as backoff.**\n",
        "\n",
        "**Evaluate and analyze the performance of the model**"
      ]
    },
    {
      "cell_type": "code",
      "metadata": {
        "id": "g3NdZMC5s_qN"
      },
      "source": [
        "# Your code here"
      ],
      "execution_count": null,
      "outputs": []
    },
    {
      "cell_type": "markdown",
      "metadata": {
        "id": "AitPti3gs_qO"
      },
      "source": [
        "### Exercise 2.2.2\n",
        "\n",
        "In the previous exercise we created an `AffixTagger` that is able to learn the annotation from the word patterns. Perhaps, we could apply this tagger to annotate the unknown words (i.e., to use it as a backoff tagger). In the previous section, we used a NOUN-default tagger for that. How much does this tagger help the `UnigramTagger` if we use it as a backoff instead of the NOUN-default tagger?\n",
        "\n",
        "**Use the `AffixTagger` that we created below as a backoff tagger for the `UnigramTagger` in the previous section**\n",
        "\n",
        "**Are we improving our tagger?**"
      ]
    },
    {
      "cell_type": "code",
      "metadata": {
        "id": "8hAb7WNVs_qO"
      },
      "source": [
        "# Your code here"
      ],
      "execution_count": null,
      "outputs": []
    },
    {
      "cell_type": "markdown",
      "metadata": {
        "id": "GkYy1Ygss_qO"
      },
      "source": [
        "###  2.3 Looking at the Context\n",
        "\n",
        "At this point, we have combined 2 major sources of information: dictionary and morphology and obtained about 95.4% accuracy. The last source of knowledge we want to exploit the context of the word to be tagged: **the words that appear around the word to be tagged**. \n",
        "\n",
        "The intuition is that if we have to decide between `book` as a verb or a noun, the word/s preceding `book` can give us strong cues: for example, if it is an article (`the` or `a`) then we would be sure that `book` is a noun; if it is `to`, then we would be sure it is a verb.\n",
        "\n",
        "How can we turn this intuition into working code? The easiest way to detect predictive contexts is to construct a list of contexts - and for each context, keep track of the distribution of tags that follow it. Luckily for us, this procedure is already implemented into the `NgramTagger`, which takes a parameter a number setting the length of the context.\n",
        "\n",
        "As usual, if the tagger cannot make a decision (because the observed context was never seen at training time), \n",
        "the decision is delegated to a backoff tagger."
      ]
    },
    {
      "cell_type": "markdown",
      "metadata": {
        "id": "QRDSwxQns_qP"
      },
      "source": [
        "### Exercise 2.3.1\n",
        "\n",
        "**Use the `NgramTagger` to create a context-based tagger. For the cases that this tagger cannot annotate anything, use the previous `UnigramTagger` as backoff.**\n",
        "\n",
        "**Try different context sizes (you can set that as a parameter when you create the `NgramTagger`) and analyze how it affects to the final performance of the model.**"
      ]
    },
    {
      "cell_type": "code",
      "metadata": {
        "id": "GA1TN8bLs_qP"
      },
      "source": [
        "from nltk import NgramTagger\n",
        "\n",
        "# Your code here"
      ],
      "execution_count": null,
      "outputs": []
    },
    {
      "cell_type": "code",
      "metadata": {
        "id": "pMCZrspbs_qP"
      },
      "source": [
        "# Your code here"
      ],
      "execution_count": null,
      "outputs": []
    },
    {
      "cell_type": "markdown",
      "metadata": {
        "id": "haapiEces_qQ"
      },
      "source": [
        "## Summary\n",
        "\n",
        "This practice introduced tools to tag parts of speech in free text. The key point of the approach we investigated is that it is **data-driven**:\n",
        "\n",
        "- We first define possible knowledge sources that can help us solve the task. Specifically, we investigated \n",
        "  * dictionary, \n",
        "  * morphological \n",
        "  * context\n",
        "  as possible sources.\n",
        "\n",
        "- We tested simple machine learning methods: data is acquired by inspecting a training dataset, then evaluated by testing on a test dataset.\n",
        "\n",
        "- We investigated one method to combine several systems into a combined system: backoff models.\n"
      ]
    },
    {
      "cell_type": "markdown",
      "metadata": {
        "id": "1OvGhnyxs_qQ"
      },
      "source": [
        "# Additional Materials: Practical Tagging\n",
        "\n",
        "In this practice we have played with the development of new Taggers. You can refer back to this Notebook if and when you need to create your own Taggers. Nevertheless, most of the time the Taggers already included in the different libraries will do the trick for you.\n",
        "\n",
        "In particular, NLTK provides you a way to tag your dataset with just a couple of lines of code by using the `pos_tag` function."
      ]
    },
    {
      "cell_type": "markdown",
      "metadata": {
        "id": "fmg59iuls_qQ"
      },
      "source": [
        "The first thing we need to do is to tokenize the sentence to be tagged. To that end, we can make use of the `word_tokenize` function in NLTK. To perform this tokenization, we need to download an already developed tokenizer model (`punkt`)"
      ]
    },
    {
      "cell_type": "code",
      "metadata": {
        "id": "mk5SqfUfs_qR",
        "colab": {
          "base_uri": "https://localhost:8080/"
        },
        "outputId": "ac094cb9-5d94-4ea8-9ae8-7ae3842f2908"
      },
      "source": [
        "nltk.download('punkt')"
      ],
      "execution_count": null,
      "outputs": [
        {
          "output_type": "stream",
          "text": [
            "[nltk_data] Downloading package punkt to /root/nltk_data...\n",
            "[nltk_data]   Unzipping tokenizers/punkt.zip.\n"
          ],
          "name": "stderr"
        },
        {
          "output_type": "execute_result",
          "data": {
            "text/plain": [
              "True"
            ]
          },
          "metadata": {
            "tags": []
          },
          "execution_count": 17
        }
      ]
    },
    {
      "cell_type": "code",
      "metadata": {
        "id": "IBXl37hKs_qR",
        "colab": {
          "base_uri": "https://localhost:8080/"
        },
        "outputId": "193d9dda-f8ed-45ca-c428-39caab92db9b"
      },
      "source": [
        "text = nltk.word_tokenize(\"And now for something completely different\")\n",
        "text"
      ],
      "execution_count": null,
      "outputs": [
        {
          "output_type": "execute_result",
          "data": {
            "text/plain": [
              "['And', 'now', 'for', 'something', 'completely', 'different']"
            ]
          },
          "metadata": {
            "tags": []
          },
          "execution_count": 18
        }
      ]
    },
    {
      "cell_type": "markdown",
      "metadata": {
        "id": "VE6y5Vuis_qS"
      },
      "source": [
        "Then we should feed our tokenized text to the pos tagging function. In this case, we are going to apply one of the already pre-trained pos tagging models included into NLTK: `averaged_perceptron_tagger`"
      ]
    },
    {
      "cell_type": "code",
      "metadata": {
        "id": "7PfhoFzhs_qS",
        "colab": {
          "base_uri": "https://localhost:8080/"
        },
        "outputId": "94748c58-5344-4ccd-c7aa-7a3ec1597352"
      },
      "source": [
        "nltk.download('averaged_perceptron_tagger')"
      ],
      "execution_count": null,
      "outputs": [
        {
          "output_type": "stream",
          "text": [
            "[nltk_data] Downloading package averaged_perceptron_tagger to\n",
            "[nltk_data]     /root/nltk_data...\n",
            "[nltk_data]   Unzipping taggers/averaged_perceptron_tagger.zip.\n"
          ],
          "name": "stderr"
        },
        {
          "output_type": "execute_result",
          "data": {
            "text/plain": [
              "True"
            ]
          },
          "metadata": {
            "tags": []
          },
          "execution_count": 19
        }
      ]
    },
    {
      "cell_type": "code",
      "metadata": {
        "id": "g2Dz84ODs_qS",
        "colab": {
          "base_uri": "https://localhost:8080/"
        },
        "outputId": "b813a2aa-3184-4a27-8d8e-5d7598f8867f"
      },
      "source": [
        "nltk.pos_tag(text)"
      ],
      "execution_count": null,
      "outputs": [
        {
          "output_type": "execute_result",
          "data": {
            "text/plain": [
              "[('And', 'CC'),\n",
              " ('now', 'RB'),\n",
              " ('for', 'IN'),\n",
              " ('something', 'NN'),\n",
              " ('completely', 'RB'),\n",
              " ('different', 'JJ')]"
            ]
          },
          "metadata": {
            "tags": []
          },
          "execution_count": 20
        }
      ]
    },
    {
      "cell_type": "markdown",
      "metadata": {
        "id": "NcIQ9gm_s_qT"
      },
      "source": [
        "If we have more than one sentence to parse, we can make use of some of the Sentence Tokenizers that nltk provides (e.g. `sent_tokenize`) to split the text in sentences, and the the word tokenizer to split each sentence in words."
      ]
    },
    {
      "cell_type": "code",
      "metadata": {
        "id": "JT4v2Ucts_qT",
        "colab": {
          "base_uri": "https://localhost:8080/"
        },
        "outputId": "2a2eb958-eb1b-48de-fab3-92693f7ef72f"
      },
      "source": [
        "sentences = nltk.sent_tokenize(\"And now for something completely different. This is just another sentence\")\n",
        "print(\"Sentences:\", sentences)\n",
        "text = [nltk.word_tokenize(sentence) for sentence in sentences]\n",
        "print(\"Text:\", text)\n",
        "print()\n",
        "for tagging in [nltk.pos_tag(t) for t in text]:\n",
        "    print(\"Tagging:\",tagging)"
      ],
      "execution_count": null,
      "outputs": [
        {
          "output_type": "stream",
          "text": [
            "Sentences: ['And now for something completely different.', 'This is just another sentence']\n",
            "Text: [['And', 'now', 'for', 'something', 'completely', 'different', '.'], ['This', 'is', 'just', 'another', 'sentence']]\n",
            "\n",
            "Tagging: [('And', 'CC'), ('now', 'RB'), ('for', 'IN'), ('something', 'NN'), ('completely', 'RB'), ('different', 'JJ'), ('.', '.')]\n",
            "Tagging: [('This', 'DT'), ('is', 'VBZ'), ('just', 'RB'), ('another', 'DT'), ('sentence', 'NN')]\n"
          ],
          "name": "stdout"
        }
      ]
    },
    {
      "cell_type": "markdown",
      "metadata": {
        "id": "EOIj2zsqs_qU"
      },
      "source": [
        "Let's see a full example with a proper corpus. NLTK provides many corpora that can be used for research or for the training of our NLP system. To find a comprehensive list of all the corpus and how to use them, please refer to the [2nd Chapter of the NLTK book](https://www.nltk.org/book/ch02.html).\n",
        "\n",
        "We will use the corpus `state_union` including the texts of the State of the Union addresses since 1945. Let's load one of these speeches."
      ]
    },
    {
      "cell_type": "code",
      "metadata": {
        "id": "sERjdYVss_qU",
        "colab": {
          "base_uri": "https://localhost:8080/",
          "height": 137
        },
        "outputId": "8689e378-0b9b-4d41-ac77-c0504afe54b8"
      },
      "source": [
        "# Download and import the State of the Union adresses corpus\n",
        "nltk.download('state_union')\n",
        "from nltk.corpus import state_union\n",
        "\n",
        "text = state_union.raw(\"1946-Truman.txt\")\n",
        "text[:1000]"
      ],
      "execution_count": null,
      "outputs": [
        {
          "output_type": "stream",
          "text": [
            "[nltk_data] Downloading package state_union to /root/nltk_data...\n",
            "[nltk_data]   Unzipping corpora/state_union.zip.\n"
          ],
          "name": "stderr"
        },
        {
          "output_type": "execute_result",
          "data": {
            "application/vnd.google.colaboratory.intrinsic+json": {
              "type": "string"
            },
            "text/plain": [
              "\"PRESIDENT HARRY S. TRUMAN'S MESSAGE TO THE CONGRESS ON THE STATE OF THE UNION AND ON THE BUDGET FOR 1946.\\n \\nJanuary 21, 1946. Dated January 14, 1946 \\n\\nTo the Congress of the United States:\\nA quarter century ago the Congress decided that it could no longer consider the financial programs of the various departments on a piecemeal basis. Instead it has called on the President to present a comprehensive Executive Budget. The Congress has shown its satisfaction with that method by extending the budget system and tightening its controls. The bigger and more complex the Federal Program, the more necessary it is for the Chief Executive to submit a single budget for action by the Congress.\\nAt the same time, it is clear that the budgetary program and the general program of the Government are actually inseparable. The President bears the responsibility for recommending to the Congress a comprehensive set of proposals on all Government activities and their financing. In formulating policies, as in\""
            ]
          },
          "metadata": {
            "tags": []
          },
          "execution_count": 22
        }
      ]
    },
    {
      "cell_type": "markdown",
      "metadata": {
        "id": "sZYGMNS9s_qV"
      },
      "source": [
        "We now define a function `tag_corpus` that takes care of the tagging process. First, it splits the text in sentences with the `sent_tokenize` function. Then, it iterates over these sentences, tokenize them with the `word_tokenize` function and apply the `pos_tag` function to the tokens."
      ]
    },
    {
      "cell_type": "code",
      "metadata": {
        "id": "YtGSf_P2s_qV",
        "colab": {
          "base_uri": "https://localhost:8080/"
        },
        "outputId": "0df09c1f-aa38-434b-fd39-97f73b32571b"
      },
      "source": [
        "def tag_corpus(corpus_text):\n",
        "    try:\n",
        "        for sentence in nltk.sent_tokenize(corpus_text)[:5]: # We just process 5 sentences for the sake of simplicity\n",
        "            words = nltk.word_tokenize(sentence)\n",
        "            tagged = nltk.pos_tag(words)\n",
        "            print(\"Sentence:\", sentence, \"\\nTagging:\", tagged)\n",
        "            print()\n",
        "\n",
        "    except Exception as e:\n",
        "        print(str(e))\n",
        "\n",
        "\n",
        "tag_corpus(text)"
      ],
      "execution_count": null,
      "outputs": [
        {
          "output_type": "stream",
          "text": [
            "Sentence: PRESIDENT HARRY S. TRUMAN'S MESSAGE TO THE CONGRESS ON THE STATE OF THE UNION AND ON THE BUDGET FOR 1946. \n",
            "Tagging: [('PRESIDENT', 'NNP'), ('HARRY', 'NNP'), ('S.', 'NNP'), ('TRUMAN', 'NNP'), (\"'S\", 'POS'), ('MESSAGE', 'NN'), ('TO', 'VBD'), ('THE', 'NNP'), ('CONGRESS', 'NNP'), ('ON', 'NNP'), ('THE', 'NNP'), ('STATE', 'NNP'), ('OF', 'IN'), ('THE', 'NNP'), ('UNION', 'NNP'), ('AND', 'NNP'), ('ON', 'NNP'), ('THE', 'NNP'), ('BUDGET', 'NNP'), ('FOR', 'NNP'), ('1946', 'CD'), ('.', '.')]\n",
            "\n",
            "Sentence: January 21, 1946. \n",
            "Tagging: [('January', 'NNP'), ('21', 'CD'), (',', ','), ('1946', 'CD'), ('.', '.')]\n",
            "\n",
            "Sentence: Dated January 14, 1946 \n",
            "\n",
            "To the Congress of the United States:\n",
            "A quarter century ago the Congress decided that it could no longer consider the financial programs of the various departments on a piecemeal basis. \n",
            "Tagging: [('Dated', 'VBN'), ('January', 'NNP'), ('14', 'CD'), (',', ','), ('1946', 'CD'), ('To', 'TO'), ('the', 'DT'), ('Congress', 'NNP'), ('of', 'IN'), ('the', 'DT'), ('United', 'NNP'), ('States', 'NNPS'), (':', ':'), ('A', 'DT'), ('quarter', 'NN'), ('century', 'NN'), ('ago', 'IN'), ('the', 'DT'), ('Congress', 'NNP'), ('decided', 'VBD'), ('that', 'IN'), ('it', 'PRP'), ('could', 'MD'), ('no', 'RB'), ('longer', 'RB'), ('consider', 'VB'), ('the', 'DT'), ('financial', 'JJ'), ('programs', 'NNS'), ('of', 'IN'), ('the', 'DT'), ('various', 'JJ'), ('departments', 'NNS'), ('on', 'IN'), ('a', 'DT'), ('piecemeal', 'JJ'), ('basis', 'NN'), ('.', '.')]\n",
            "\n",
            "Sentence: Instead it has called on the President to present a comprehensive Executive Budget. \n",
            "Tagging: [('Instead', 'RB'), ('it', 'PRP'), ('has', 'VBZ'), ('called', 'VBN'), ('on', 'IN'), ('the', 'DT'), ('President', 'NNP'), ('to', 'TO'), ('present', 'VB'), ('a', 'DT'), ('comprehensive', 'JJ'), ('Executive', 'NNP'), ('Budget', 'NNP'), ('.', '.')]\n",
            "\n",
            "Sentence: The Congress has shown its satisfaction with that method by extending the budget system and tightening its controls. \n",
            "Tagging: [('The', 'DT'), ('Congress', 'NNP'), ('has', 'VBZ'), ('shown', 'VBN'), ('its', 'PRP$'), ('satisfaction', 'NN'), ('with', 'IN'), ('that', 'DT'), ('method', 'NN'), ('by', 'IN'), ('extending', 'VBG'), ('the', 'DT'), ('budget', 'NN'), ('system', 'NN'), ('and', 'CC'), ('tightening', 'VBG'), ('its', 'PRP$'), ('controls', 'NNS'), ('.', '.')]\n",
            "\n"
          ],
          "name": "stdout"
        }
      ]
    },
    {
      "cell_type": "markdown",
      "metadata": {
        "id": "T1prQElHs_qW"
      },
      "source": [
        "Same function in a more *pythonic* way"
      ]
    },
    {
      "cell_type": "code",
      "metadata": {
        "scrolled": true,
        "id": "mxOdSo2is_qW",
        "colab": {
          "base_uri": "https://localhost:8080/"
        },
        "outputId": "9790d6cb-da3d-4cc2-f59c-dabfd3d22dde"
      },
      "source": [
        "def pythonized_tag_corpus(corpus_text):\n",
        "    try:\n",
        "        [print(\"Sentence:\", sentence, \"\\nTagging:\", nltk.pos_tag(nltk.word_tokenize(sentence)), \"\\n\") for sentence in nltk.sent_tokenize(corpus_text)[:5]]\n",
        "    except Exception as e:\n",
        "        print(str(e))\n",
        "        \n",
        "pythonized_tag_corpus(text)    "
      ],
      "execution_count": null,
      "outputs": [
        {
          "output_type": "stream",
          "text": [
            "Sentence: PRESIDENT HARRY S. TRUMAN'S MESSAGE TO THE CONGRESS ON THE STATE OF THE UNION AND ON THE BUDGET FOR 1946. \n",
            "Tagging: [('PRESIDENT', 'NNP'), ('HARRY', 'NNP'), ('S.', 'NNP'), ('TRUMAN', 'NNP'), (\"'S\", 'POS'), ('MESSAGE', 'NN'), ('TO', 'VBD'), ('THE', 'NNP'), ('CONGRESS', 'NNP'), ('ON', 'NNP'), ('THE', 'NNP'), ('STATE', 'NNP'), ('OF', 'IN'), ('THE', 'NNP'), ('UNION', 'NNP'), ('AND', 'NNP'), ('ON', 'NNP'), ('THE', 'NNP'), ('BUDGET', 'NNP'), ('FOR', 'NNP'), ('1946', 'CD'), ('.', '.')] \n",
            "\n",
            "Sentence: January 21, 1946. \n",
            "Tagging: [('January', 'NNP'), ('21', 'CD'), (',', ','), ('1946', 'CD'), ('.', '.')] \n",
            "\n",
            "Sentence: Dated January 14, 1946 \n",
            "\n",
            "To the Congress of the United States:\n",
            "A quarter century ago the Congress decided that it could no longer consider the financial programs of the various departments on a piecemeal basis. \n",
            "Tagging: [('Dated', 'VBN'), ('January', 'NNP'), ('14', 'CD'), (',', ','), ('1946', 'CD'), ('To', 'TO'), ('the', 'DT'), ('Congress', 'NNP'), ('of', 'IN'), ('the', 'DT'), ('United', 'NNP'), ('States', 'NNPS'), (':', ':'), ('A', 'DT'), ('quarter', 'NN'), ('century', 'NN'), ('ago', 'IN'), ('the', 'DT'), ('Congress', 'NNP'), ('decided', 'VBD'), ('that', 'IN'), ('it', 'PRP'), ('could', 'MD'), ('no', 'RB'), ('longer', 'RB'), ('consider', 'VB'), ('the', 'DT'), ('financial', 'JJ'), ('programs', 'NNS'), ('of', 'IN'), ('the', 'DT'), ('various', 'JJ'), ('departments', 'NNS'), ('on', 'IN'), ('a', 'DT'), ('piecemeal', 'JJ'), ('basis', 'NN'), ('.', '.')] \n",
            "\n",
            "Sentence: Instead it has called on the President to present a comprehensive Executive Budget. \n",
            "Tagging: [('Instead', 'RB'), ('it', 'PRP'), ('has', 'VBZ'), ('called', 'VBN'), ('on', 'IN'), ('the', 'DT'), ('President', 'NNP'), ('to', 'TO'), ('present', 'VB'), ('a', 'DT'), ('comprehensive', 'JJ'), ('Executive', 'NNP'), ('Budget', 'NNP'), ('.', '.')] \n",
            "\n",
            "Sentence: The Congress has shown its satisfaction with that method by extending the budget system and tightening its controls. \n",
            "Tagging: [('The', 'DT'), ('Congress', 'NNP'), ('has', 'VBZ'), ('shown', 'VBN'), ('its', 'PRP$'), ('satisfaction', 'NN'), ('with', 'IN'), ('that', 'DT'), ('method', 'NN'), ('by', 'IN'), ('extending', 'VBG'), ('the', 'DT'), ('budget', 'NN'), ('system', 'NN'), ('and', 'CC'), ('tightening', 'VBG'), ('its', 'PRP$'), ('controls', 'NNS'), ('.', '.')] \n",
            "\n"
          ],
          "name": "stdout"
        }
      ]
    }
  ]
}