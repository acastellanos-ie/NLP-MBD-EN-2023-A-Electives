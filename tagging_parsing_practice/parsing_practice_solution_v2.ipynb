{
  "nbformat": 4,
  "nbformat_minor": 0,
  "metadata": {
    "colab": {
      "provenance": [],
      "authorship_tag": "ABX9TyNgf63ZMY2dUvyDCMQiFC/f",
      "include_colab_link": true
    },
    "kernelspec": {
      "name": "python3",
      "display_name": "Python 3"
    },
    "language_info": {
      "name": "python"
    },
    "accelerator": "GPU",
    "gpuClass": "standard"
  },
  "cells": [
    {
      "cell_type": "markdown",
      "metadata": {
        "id": "view-in-github",
        "colab_type": "text"
      },
      "source": [
        "<a href=\"https://colab.research.google.com/github/acastellanos-ie/NLP-MBD-EN-2023-A-Electives/blob/main/tagging_parsing_practice/parsing_practice_solution_v2.ipynb\" target=\"_parent\"><img src=\"https://colab.research.google.com/assets/colab-badge.svg\" alt=\"Open In Colab\"/></a>"
      ]
    },
    {
      "cell_type": "markdown",
      "metadata": {
        "id": "LCvwbQnTvBRh"
      },
      "source": [
        "# Google Colab Configuration\n",
        "\n",
        "**Execute this steps to configure the Google Colab environment in order to execute this notebook. It is not required if you are executing it locally and you have properly configured your local environment according to what explained in the Github Repository.**\n",
        "\n",
        "The first step is to clone the repository to have access to all the data and files"
      ]
    },
    {
      "cell_type": "code",
      "source": [
        "repository_name = \"NLP-MBD-EN-2023-A-Electives\"\n",
        "repository_url = 'https://github.com/acastellanos-ie/' + repository_name"
      ],
      "metadata": {
        "id": "3oUMLXLlU40I"
      },
      "execution_count": null,
      "outputs": []
    },
    {
      "cell_type": "code",
      "metadata": {
        "id": "3d7mC64KvlwP"
      },
      "source": [
        "! git clone $repository_url"
      ],
      "execution_count": null,
      "outputs": []
    },
    {
      "cell_type": "markdown",
      "metadata": {
        "id": "Ecfec2Y4v6e9"
      },
      "source": [
        "Install the requirements"
      ]
    },
    {
      "cell_type": "code",
      "metadata": {
        "id": "DIep7l0jvtUB"
      },
      "source": [
        "! pip install -Uqqr $repository_name/tagging_parsing_practice/requirements.txt"
      ],
      "execution_count": null,
      "outputs": []
    },
    {
      "cell_type": "markdown",
      "metadata": {
        "id": "SKqBBIxf03lS"
      },
      "source": [
        "Ensure that you have the GPU runtime activated:\n",
        "\n",
        "![](https://miro.medium.com/max/3006/1*vOkqNhJNl1204kOhqq59zA.png)\n",
        "\n",
        "Now you have everything you need to execute the code in Colab"
      ]
    },
    {
      "cell_type": "markdown",
      "source": [
        "# Dependency Parsing with spacy\n",
        "\n",
        "For this practice, we will use the [spaCy](https://https://spacy.io/) library, which provides pre-trained models for various NLP tasks, including dependency parsing. In this example, we'll demonstrate how to perform dependency parsing and visualize the results using spaCy"
      ],
      "metadata": {
        "id": "7Bf6tIVVDped"
      }
    },
    {
      "cell_type": "markdown",
      "source": [
        "We need to start by downloading the pre-trained spacy model for English. For more details about the available models, please check the spacy documentation: https://spacy.io/models"
      ],
      "metadata": {
        "id": "q2lRnQ0uEJBn"
      }
    },
    {
      "cell_type": "code",
      "source": [
        "! python -m spacy download en_core_web_sm\n"
      ],
      "metadata": {
        "id": "vPhJ6mQ5D2Qs"
      },
      "execution_count": null,
      "outputs": []
    },
    {
      "cell_type": "markdown",
      "source": [
        "Now we can load the pre-trained model that we just downloaded"
      ],
      "metadata": {
        "id": "uzqt237LEe_x"
      }
    },
    {
      "cell_type": "code",
      "source": [
        "import spacy\n",
        "from spacy import displacy\n",
        "from IPython.core.display import display, HTML\n",
        "\n",
        "\n",
        "nlp = spacy.load(\"en_core_web_sm\")"
      ],
      "metadata": {
        "id": "mxLfPIsyEapx"
      },
      "execution_count": null,
      "outputs": []
    },
    {
      "cell_type": "markdown",
      "source": [
        "Let's define a simple sample text and perform the dependency parsing"
      ],
      "metadata": {
        "id": "_BD19LHOFQIg"
      }
    },
    {
      "cell_type": "code",
      "source": [
        "text = \"The quick brown fox jumps over the lazy dog.\"\n",
        "\n",
        "doc = nlp(text)\n",
        "\n",
        "for token in doc:\n",
        "    print(f\"{token.text} <--{token.dep_}-- {token.head.text}\")\n"
      ],
      "metadata": {
        "colab": {
          "base_uri": "https://localhost:8080/"
        },
        "id": "AhAqqd7ZEeGn",
        "outputId": "c5b4c08d-8d77-431f-ccc1-704770ba8554"
      },
      "execution_count": null,
      "outputs": [
        {
          "output_type": "stream",
          "name": "stdout",
          "text": [
            "The <--det-- fox\n",
            "quick <--amod-- fox\n",
            "brown <--amod-- fox\n",
            "fox <--nsubj-- jumps\n",
            "jumps <--ROOT-- jumps\n",
            "over <--prep-- jumps\n",
            "the <--det-- dog\n",
            "lazy <--amod-- dog\n",
            "dog <--pobj-- over\n",
            ". <--punct-- jumps\n"
          ]
        }
      ]
    },
    {
      "cell_type": "markdown",
      "source": [
        "The output is not straightforward to understand and analyze, but we can always show the dependency tree."
      ],
      "metadata": {
        "id": "bJbWORQGFfaw"
      }
    },
    {
      "cell_type": "code",
      "source": [
        "# Render the dependency tree using displaCy\n",
        "html = displacy.render(doc, style=\"dep\", jupyter=False)\n",
        "\n",
        "# Display the rendered HTML in the Jupyter Notebook\n",
        "display(HTML(html))"
      ],
      "metadata": {
        "colab": {
          "base_uri": "https://localhost:8080/",
          "height": 421
        },
        "id": "l6QXHlu4Fb-n",
        "outputId": "289f34de-58a7-4afe-91fa-b5ea77f615e4"
      },
      "execution_count": null,
      "outputs": [
        {
          "output_type": "display_data",
          "data": {
            "text/plain": [
              "<IPython.core.display.HTML object>"
            ],
            "text/html": [
              "<svg xmlns=\"http://www.w3.org/2000/svg\" xmlns:xlink=\"http://www.w3.org/1999/xlink\" xml:lang=\"en\" id=\"86360038fb6249febe0e5d375b9c617b-0\" class=\"displacy\" width=\"1625\" height=\"399.5\" direction=\"ltr\" style=\"max-width: none; height: 399.5px; color: #000000; background: #ffffff; font-family: Arial; direction: ltr\">\n",
              "<text class=\"displacy-token\" fill=\"currentColor\" text-anchor=\"middle\" y=\"309.5\">\n",
              "    <tspan class=\"displacy-word\" fill=\"currentColor\" x=\"50\">The</tspan>\n",
              "    <tspan class=\"displacy-tag\" dy=\"2em\" fill=\"currentColor\" x=\"50\">DET</tspan>\n",
              "</text>\n",
              "\n",
              "<text class=\"displacy-token\" fill=\"currentColor\" text-anchor=\"middle\" y=\"309.5\">\n",
              "    <tspan class=\"displacy-word\" fill=\"currentColor\" x=\"225\">quick</tspan>\n",
              "    <tspan class=\"displacy-tag\" dy=\"2em\" fill=\"currentColor\" x=\"225\">ADJ</tspan>\n",
              "</text>\n",
              "\n",
              "<text class=\"displacy-token\" fill=\"currentColor\" text-anchor=\"middle\" y=\"309.5\">\n",
              "    <tspan class=\"displacy-word\" fill=\"currentColor\" x=\"400\">brown</tspan>\n",
              "    <tspan class=\"displacy-tag\" dy=\"2em\" fill=\"currentColor\" x=\"400\">ADJ</tspan>\n",
              "</text>\n",
              "\n",
              "<text class=\"displacy-token\" fill=\"currentColor\" text-anchor=\"middle\" y=\"309.5\">\n",
              "    <tspan class=\"displacy-word\" fill=\"currentColor\" x=\"575\">fox</tspan>\n",
              "    <tspan class=\"displacy-tag\" dy=\"2em\" fill=\"currentColor\" x=\"575\">NOUN</tspan>\n",
              "</text>\n",
              "\n",
              "<text class=\"displacy-token\" fill=\"currentColor\" text-anchor=\"middle\" y=\"309.5\">\n",
              "    <tspan class=\"displacy-word\" fill=\"currentColor\" x=\"750\">jumps</tspan>\n",
              "    <tspan class=\"displacy-tag\" dy=\"2em\" fill=\"currentColor\" x=\"750\">VERB</tspan>\n",
              "</text>\n",
              "\n",
              "<text class=\"displacy-token\" fill=\"currentColor\" text-anchor=\"middle\" y=\"309.5\">\n",
              "    <tspan class=\"displacy-word\" fill=\"currentColor\" x=\"925\">over</tspan>\n",
              "    <tspan class=\"displacy-tag\" dy=\"2em\" fill=\"currentColor\" x=\"925\">ADP</tspan>\n",
              "</text>\n",
              "\n",
              "<text class=\"displacy-token\" fill=\"currentColor\" text-anchor=\"middle\" y=\"309.5\">\n",
              "    <tspan class=\"displacy-word\" fill=\"currentColor\" x=\"1100\">the</tspan>\n",
              "    <tspan class=\"displacy-tag\" dy=\"2em\" fill=\"currentColor\" x=\"1100\">DET</tspan>\n",
              "</text>\n",
              "\n",
              "<text class=\"displacy-token\" fill=\"currentColor\" text-anchor=\"middle\" y=\"309.5\">\n",
              "    <tspan class=\"displacy-word\" fill=\"currentColor\" x=\"1275\">lazy</tspan>\n",
              "    <tspan class=\"displacy-tag\" dy=\"2em\" fill=\"currentColor\" x=\"1275\">ADJ</tspan>\n",
              "</text>\n",
              "\n",
              "<text class=\"displacy-token\" fill=\"currentColor\" text-anchor=\"middle\" y=\"309.5\">\n",
              "    <tspan class=\"displacy-word\" fill=\"currentColor\" x=\"1450\">dog.</tspan>\n",
              "    <tspan class=\"displacy-tag\" dy=\"2em\" fill=\"currentColor\" x=\"1450\">NOUN</tspan>\n",
              "</text>\n",
              "\n",
              "<g class=\"displacy-arrow\">\n",
              "    <path class=\"displacy-arc\" id=\"arrow-86360038fb6249febe0e5d375b9c617b-0-0\" stroke-width=\"2px\" d=\"M70,264.5 C70,2.0 575.0,2.0 575.0,264.5\" fill=\"none\" stroke=\"currentColor\"/>\n",
              "    <text dy=\"1.25em\" style=\"font-size: 0.8em; letter-spacing: 1px\">\n",
              "        <textPath xlink:href=\"#arrow-86360038fb6249febe0e5d375b9c617b-0-0\" class=\"displacy-label\" startOffset=\"50%\" side=\"left\" fill=\"currentColor\" text-anchor=\"middle\">det</textPath>\n",
              "    </text>\n",
              "    <path class=\"displacy-arrowhead\" d=\"M70,266.5 L62,254.5 78,254.5\" fill=\"currentColor\"/>\n",
              "</g>\n",
              "\n",
              "<g class=\"displacy-arrow\">\n",
              "    <path class=\"displacy-arc\" id=\"arrow-86360038fb6249febe0e5d375b9c617b-0-1\" stroke-width=\"2px\" d=\"M245,264.5 C245,89.5 570.0,89.5 570.0,264.5\" fill=\"none\" stroke=\"currentColor\"/>\n",
              "    <text dy=\"1.25em\" style=\"font-size: 0.8em; letter-spacing: 1px\">\n",
              "        <textPath xlink:href=\"#arrow-86360038fb6249febe0e5d375b9c617b-0-1\" class=\"displacy-label\" startOffset=\"50%\" side=\"left\" fill=\"currentColor\" text-anchor=\"middle\">amod</textPath>\n",
              "    </text>\n",
              "    <path class=\"displacy-arrowhead\" d=\"M245,266.5 L237,254.5 253,254.5\" fill=\"currentColor\"/>\n",
              "</g>\n",
              "\n",
              "<g class=\"displacy-arrow\">\n",
              "    <path class=\"displacy-arc\" id=\"arrow-86360038fb6249febe0e5d375b9c617b-0-2\" stroke-width=\"2px\" d=\"M420,264.5 C420,177.0 565.0,177.0 565.0,264.5\" fill=\"none\" stroke=\"currentColor\"/>\n",
              "    <text dy=\"1.25em\" style=\"font-size: 0.8em; letter-spacing: 1px\">\n",
              "        <textPath xlink:href=\"#arrow-86360038fb6249febe0e5d375b9c617b-0-2\" class=\"displacy-label\" startOffset=\"50%\" side=\"left\" fill=\"currentColor\" text-anchor=\"middle\">amod</textPath>\n",
              "    </text>\n",
              "    <path class=\"displacy-arrowhead\" d=\"M420,266.5 L412,254.5 428,254.5\" fill=\"currentColor\"/>\n",
              "</g>\n",
              "\n",
              "<g class=\"displacy-arrow\">\n",
              "    <path class=\"displacy-arc\" id=\"arrow-86360038fb6249febe0e5d375b9c617b-0-3\" stroke-width=\"2px\" d=\"M595,264.5 C595,177.0 740.0,177.0 740.0,264.5\" fill=\"none\" stroke=\"currentColor\"/>\n",
              "    <text dy=\"1.25em\" style=\"font-size: 0.8em; letter-spacing: 1px\">\n",
              "        <textPath xlink:href=\"#arrow-86360038fb6249febe0e5d375b9c617b-0-3\" class=\"displacy-label\" startOffset=\"50%\" side=\"left\" fill=\"currentColor\" text-anchor=\"middle\">nsubj</textPath>\n",
              "    </text>\n",
              "    <path class=\"displacy-arrowhead\" d=\"M595,266.5 L587,254.5 603,254.5\" fill=\"currentColor\"/>\n",
              "</g>\n",
              "\n",
              "<g class=\"displacy-arrow\">\n",
              "    <path class=\"displacy-arc\" id=\"arrow-86360038fb6249febe0e5d375b9c617b-0-4\" stroke-width=\"2px\" d=\"M770,264.5 C770,177.0 915.0,177.0 915.0,264.5\" fill=\"none\" stroke=\"currentColor\"/>\n",
              "    <text dy=\"1.25em\" style=\"font-size: 0.8em; letter-spacing: 1px\">\n",
              "        <textPath xlink:href=\"#arrow-86360038fb6249febe0e5d375b9c617b-0-4\" class=\"displacy-label\" startOffset=\"50%\" side=\"left\" fill=\"currentColor\" text-anchor=\"middle\">prep</textPath>\n",
              "    </text>\n",
              "    <path class=\"displacy-arrowhead\" d=\"M915.0,266.5 L923.0,254.5 907.0,254.5\" fill=\"currentColor\"/>\n",
              "</g>\n",
              "\n",
              "<g class=\"displacy-arrow\">\n",
              "    <path class=\"displacy-arc\" id=\"arrow-86360038fb6249febe0e5d375b9c617b-0-5\" stroke-width=\"2px\" d=\"M1120,264.5 C1120,89.5 1445.0,89.5 1445.0,264.5\" fill=\"none\" stroke=\"currentColor\"/>\n",
              "    <text dy=\"1.25em\" style=\"font-size: 0.8em; letter-spacing: 1px\">\n",
              "        <textPath xlink:href=\"#arrow-86360038fb6249febe0e5d375b9c617b-0-5\" class=\"displacy-label\" startOffset=\"50%\" side=\"left\" fill=\"currentColor\" text-anchor=\"middle\">det</textPath>\n",
              "    </text>\n",
              "    <path class=\"displacy-arrowhead\" d=\"M1120,266.5 L1112,254.5 1128,254.5\" fill=\"currentColor\"/>\n",
              "</g>\n",
              "\n",
              "<g class=\"displacy-arrow\">\n",
              "    <path class=\"displacy-arc\" id=\"arrow-86360038fb6249febe0e5d375b9c617b-0-6\" stroke-width=\"2px\" d=\"M1295,264.5 C1295,177.0 1440.0,177.0 1440.0,264.5\" fill=\"none\" stroke=\"currentColor\"/>\n",
              "    <text dy=\"1.25em\" style=\"font-size: 0.8em; letter-spacing: 1px\">\n",
              "        <textPath xlink:href=\"#arrow-86360038fb6249febe0e5d375b9c617b-0-6\" class=\"displacy-label\" startOffset=\"50%\" side=\"left\" fill=\"currentColor\" text-anchor=\"middle\">amod</textPath>\n",
              "    </text>\n",
              "    <path class=\"displacy-arrowhead\" d=\"M1295,266.5 L1287,254.5 1303,254.5\" fill=\"currentColor\"/>\n",
              "</g>\n",
              "\n",
              "<g class=\"displacy-arrow\">\n",
              "    <path class=\"displacy-arc\" id=\"arrow-86360038fb6249febe0e5d375b9c617b-0-7\" stroke-width=\"2px\" d=\"M945,264.5 C945,2.0 1450.0,2.0 1450.0,264.5\" fill=\"none\" stroke=\"currentColor\"/>\n",
              "    <text dy=\"1.25em\" style=\"font-size: 0.8em; letter-spacing: 1px\">\n",
              "        <textPath xlink:href=\"#arrow-86360038fb6249febe0e5d375b9c617b-0-7\" class=\"displacy-label\" startOffset=\"50%\" side=\"left\" fill=\"currentColor\" text-anchor=\"middle\">pobj</textPath>\n",
              "    </text>\n",
              "    <path class=\"displacy-arrowhead\" d=\"M1450.0,266.5 L1458.0,254.5 1442.0,254.5\" fill=\"currentColor\"/>\n",
              "</g>\n",
              "</svg>"
            ]
          },
          "metadata": {}
        }
      ]
    },
    {
      "cell_type": "markdown",
      "source": [
        "This example demonstrates a simple usage for dependency parsing using the spaCy library. It loads a pre-trained model, performs dependency parsing on a sample text, and displays the dependency parse tree both in text format and as a visualization.\n",
        "\n",
        "Now we will try to do something more interesting"
      ],
      "metadata": {
        "id": "59e1noi8G91O"
      }
    },
    {
      "cell_type": "markdown",
      "source": [
        "# Applied Dependency Parsing: SVO Detection\n",
        "\n",
        "One interesting application of dependency parsing is extracting relationships between entities in a sentence, such as subject-verb-object (SVO) triples. This can be useful for tasks like information extraction, knowledge graph construction, or question-answering systems.\n",
        "\n",
        "Here's an example of how to extract SVO triples using the dependency parser from the spaCy library:"
      ],
      "metadata": {
        "id": "6FCQ9y5YHrNi"
      }
    },
    {
      "cell_type": "markdown",
      "source": [
        "First we need to define a function to find the subject and object connected to a verb"
      ],
      "metadata": {
        "id": "DHYWVCOLII_X"
      }
    },
    {
      "cell_type": "code",
      "source": [
        "def find_subject_object_pairs(parsed_sentence):\n",
        "    subject = None\n",
        "    obj = None\n",
        "    pairs = []\n",
        "\n",
        "    for token in parsed_sentence:\n",
        "        if \"subj\" in token.dep_:\n",
        "            subject = token\n",
        "        if \"obj\" in token.dep_:\n",
        "            obj = token\n",
        "\n",
        "        if subject and obj:\n",
        "            pairs.append((subject, token, obj))\n",
        "            subject = None\n",
        "            obj = None\n",
        "\n",
        "    return pairs\n"
      ],
      "metadata": {
        "id": "cpQrwavuG9aC"
      },
      "execution_count": null,
      "outputs": []
    },
    {
      "cell_type": "markdown",
      "source": [
        "Then, we need to define a function that uses the `find_subject_object_pairs` function to extract SVO triples from a text"
      ],
      "metadata": {
        "id": "_p3vGzm8IctX"
      }
    },
    {
      "cell_type": "code",
      "source": [
        "def extract_svo_triples(text, nlp):\n",
        "    doc = nlp(text)\n",
        "    svo_triples = []\n",
        "\n",
        "    for token in doc:\n",
        "        if \"subj\" in token.dep_:\n",
        "            subject = token\n",
        "            verb = token.head\n",
        "            for obj in verb.children:\n",
        "                if \"obj\" in obj.dep_:\n",
        "                    svo_triples.append((subject, verb, obj))\n",
        "                elif obj.dep_ == \"prep\":\n",
        "                    for pobj in obj.children:\n",
        "                        if pobj.dep_ == \"pobj\":\n",
        "                            svo_triples.append((subject, verb, pobj))\n",
        "\n",
        "    return svo_triples\n"
      ],
      "metadata": {
        "id": "wLtN87mCFqeO"
      },
      "execution_count": null,
      "outputs": []
    },
    {
      "cell_type": "markdown",
      "source": [
        "Finally, we can use the pre-trained model and the SVO extraction function to extract SVO triples from a sample text"
      ],
      "metadata": {
        "id": "neXjMs0gJNXq"
      }
    },
    {
      "cell_type": "code",
      "source": [
        "text = \"The quick brown fox jumps over the lazy dog. John bought a new car. Mary gave John a book.\"\n",
        "svo_triples = extract_svo_triples(text, nlp)\n",
        "\n",
        "for triple in svo_triples:\n",
        "    print(f\"Subject: {triple[0].text}, Verb: {triple[1].text}, Object: {triple[2].text}\")\n"
      ],
      "metadata": {
        "colab": {
          "base_uri": "https://localhost:8080/"
        },
        "id": "DHazA13fInPS",
        "outputId": "26dc5f45-50dd-4632-a050-13fe801bccc6"
      },
      "execution_count": null,
      "outputs": [
        {
          "output_type": "stream",
          "name": "stdout",
          "text": [
            "Subject: fox, Verb: jumps, Object: dog\n",
            "Subject: John, Verb: bought, Object: car\n",
            "Subject: Mary, Verb: gave, Object: book\n"
          ]
        }
      ]
    },
    {
      "cell_type": "markdown",
      "source": [
        "# Question Answering by means of Dependency Parsing\n",
        "\n",
        "Let's use the SVO extraction code to build a simple question-answering system. This system will be able to answer basic \"who did what\" questions based on a given text"
      ],
      "metadata": {
        "id": "URh_snycJXeR"
      }
    },
    {
      "cell_type": "code",
      "source": [
        "def simple_qa(question, svo_triples):\n",
        "    question_doc = nlp(question)\n",
        "    question_verb = None\n",
        "\n",
        "    for token in question_doc:\n",
        "        if \"VERB\" in token.pos_:\n",
        "            question_verb = token\n",
        "            break\n",
        "\n",
        "    if question_verb is not None:\n",
        "        for triple in svo_triples:\n",
        "            subject, verb, obj = triple\n",
        "            if verb.lemma_ == question_verb.lemma_:\n",
        "                return f\"{subject.text} {verb.text} {obj.text}\"\n",
        "\n",
        "    return \"I don't know the answer.\"\n"
      ],
      "metadata": {
        "id": "xDt7W2nuIvNz"
      },
      "execution_count": null,
      "outputs": []
    },
    {
      "cell_type": "markdown",
      "source": [
        "Let's test the QA syste that we have generated with some questions"
      ],
      "metadata": {
        "id": "Bh45NAxWJi-f"
      }
    },
    {
      "cell_type": "code",
      "source": [
        "text = \"John bought a new car. Mary gave John a book. Alice traveled to Paris.\"\n",
        "\n",
        "# Extract SVO triples from the text\n",
        "svo_triples = extract_svo_triples(text, nlp)\n",
        "\n",
        "# Test questions\n",
        "questions = [\n",
        "    \"Who bought a car?\",\n",
        "    \"What did John buy?\",\n",
        "    \"Who gave John a book?\",\n",
        "    \"What did Mary give to John?\",\n",
        "    \"Who traveled to Paris?\",\n",
        "]\n",
        "\n",
        "for question in questions:\n",
        "    answer = simple_qa(question, svo_triples)\n",
        "    print(f\"Question: {question}\\nAnswer: {answer}\\n\")\n"
      ],
      "metadata": {
        "colab": {
          "base_uri": "https://localhost:8080/"
        },
        "id": "3lUXmC9RJfQ5",
        "outputId": "d498c052-1e82-47ee-d3c4-0c23d329127e"
      },
      "execution_count": null,
      "outputs": [
        {
          "output_type": "stream",
          "name": "stdout",
          "text": [
            "Question: Who bought a car?\n",
            "Answer: John bought car\n",
            "\n",
            "Question: What did John buy?\n",
            "Answer: John bought car\n",
            "\n",
            "Question: Who gave John a book?\n",
            "Answer: Mary gave book\n",
            "\n",
            "Question: What did Mary give to John?\n",
            "Answer: Mary gave book\n",
            "\n",
            "Question: Who traveled to Paris?\n",
            "Answer: Alice traveled Paris\n",
            "\n"
          ]
        }
      ]
    },
    {
      "cell_type": "markdown",
      "source": [
        "This example demonstrates how to use the SVO extraction code to build a simple question-answering system. The system can answer basic \"who did what\" questions based on a given text by matching the parsed question's main verb with the SVO triples extracted from the text. Note that this is a very simple system and may not be able to handle complex questions or understand variations in phrasing. However, it's a nice example of how to leverage SVO triples for a practical application."
      ],
      "metadata": {
        "id": "A0pPYkpYMFUD"
      }
    }
  ]
}